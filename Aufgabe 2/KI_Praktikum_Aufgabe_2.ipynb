{
  "nbformat": 4,
  "nbformat_minor": 0,
  "metadata": {
    "kernelspec": {
      "name": "python3",
      "display_name": "Python 3"
    },
    "language_info": {
      "codemirror_mode": {
        "name": "ipython",
        "version": 3
      },
      "file_extension": ".py",
      "mimetype": "text/x-python",
      "name": "python",
      "nbconvert_exporter": "python",
      "pygments_lexer": "ipython3",
      "version": "3.6.8"
    },
    "colab": {
      "name": "KI_Praktikum_Aufgabe_2.ipynb",
      "provenance": [],
      "private_outputs": true,
      "collapsed_sections": [],
      "toc_visible": true,
      "include_colab_link": true
    },
    "accelerator": "GPU"
  },
  "cells": [
    {
      "cell_type": "markdown",
      "metadata": {
        "id": "view-in-github",
        "colab_type": "text"
      },
      "source": [
        "<a href=\"https://colab.research.google.com/github/HenningBuhl/DLKTF/blob/master/Aufgabe%202/KI_Praktikum_Aufgabe_2.ipynb\" target=\"_parent\"><img src=\"https://colab.research.google.com/assets/colab-badge.svg\" alt=\"Open In Colab\"/></a>"
      ]
    },
    {
      "cell_type": "markdown",
      "metadata": {
        "id": "z6P3RF01s_dW",
        "colab_type": "text"
      },
      "source": [
        "# KI Praktikum - Aufgabe 2"
      ]
    },
    {
      "cell_type": "markdown",
      "metadata": {
        "id": "SUMQ1bAFcooV",
        "colab_type": "text"
      },
      "source": [
        "## Imports"
      ]
    },
    {
      "cell_type": "code",
      "metadata": {
        "id": "Ue0Q-5XMhB6f",
        "colab_type": "code",
        "colab": {}
      },
      "source": [
        "# Imports.\n",
        "import numpy as np\n",
        "import matplotlib.pyplot as plt"
      ],
      "execution_count": 0,
      "outputs": []
    },
    {
      "cell_type": "markdown",
      "metadata": {
        "id": "bTdjZmuicptv",
        "colab_type": "text"
      },
      "source": [
        "## Neural Network Class"
      ]
    },
    {
      "cell_type": "code",
      "metadata": {
        "id": "NvfY8izPhB6o",
        "colab_type": "code",
        "colab": {}
      },
      "source": [
        "# A class containing basic neural network functionality.\n",
        "class NeuralNetwork():\n",
        "    # Constructor.\n",
        "    def __init__(self, layer_sizes=[]):\n",
        "        # Infer information from input parameter(s).\n",
        "        self.layer_sizes = layer_sizes\n",
        "        self.input_size = self.layer_sizes[0]\n",
        "        self.output_size = self.layer_sizes[-1]\n",
        "        self.num_layers = len(self.layer_sizes)\n",
        "        self.num_parameters = np.sum([(self.layer_sizes[i] + 1) * self.layer_sizes[i+1]\n",
        "                                      for i in range(self.num_layers - 1)])\n",
        "\n",
        "        # Initialize the network parameters.\n",
        "        self.weights = [np.random.normal(0, 1, (self.layer_sizes[i-1], self.layer_sizes[i]))\n",
        "                       for i in range(1, self.num_layers)]\n",
        "        self.biases = [np.zeros((self.layer_sizes[i]))\n",
        "                      for i in range(1, self.num_layers)]\n",
        "\n",
        "\n",
        "    # Sigmoid activation function.\n",
        "    def sigmoid(self, x):\n",
        "        return 1 / (1 + np.exp(-x))\n",
        "\n",
        "\n",
        "    # First derivative of the sigmoid function.\n",
        "    def sigmoid_prime(self, x):\n",
        "        sigmoid = self.sigmoid(x)\n",
        "        return sigmoid * (1 - sigmoid)\n",
        "\n",
        "\n",
        "    # Cross entropy loss.\n",
        "    def loss(self, y, y_hat):\n",
        "        return (y_hat - y) / (y_hat * (1 - y_hat))\n",
        "\n",
        "\n",
        "    # Cross entropy cost.\n",
        "    def cost(self, y, y_hat):\n",
        "        return -np.sum(y * np.log(y_hat) + (1 - y) * np.log(1 - y_hat))\n",
        "\n",
        "\n",
        "    # Performs a feed forward with a given data point.\n",
        "    def feedforward(self, x, return_all=False):\n",
        "        # Initialize pre- and post-activation values.\n",
        "        z = [np.zeros((len(x), 1))] # Dummy entry so z and a can be indexed with the same index.\n",
        "        a = [x] # The first layers' activations are x.\n",
        "\n",
        "        # Calculate the layers output with the output of the previous layer.\n",
        "        for i in range(1, self.num_layers):\n",
        "            z.append(a[-1] @ self.weights[i-1] + self.biases[i-1])\n",
        "            a.append(self.sigmoid(z[-1]))\n",
        "        \n",
        "        # If return_all=True, return pre-activations and post-activations.\n",
        "        if return_all:\n",
        "            return z, a, a[-1]\n",
        "        else:\n",
        "            return a[-1]\n",
        "\n",
        "\n",
        "    # Perform backpropagation and gradient descent given a data point and a label.\n",
        "    def backprop(self, x, y, learning_rate=0.1):\n",
        "        # Perform a feed forward.\n",
        "        z, a, y_hat = self.feedforward(x, return_all=True)\n",
        "\n",
        "        # Calculate the error for each layer.\n",
        "        errors = [self.loss(y, y_hat) * self.sigmoid_prime(z[-1])]\n",
        "        for i in reversed(range(1, self.num_layers - 1)):\n",
        "            errors.append(self.weights[i] @ errors[-1] * self.sigmoid_prime(z[i]))\n",
        "\n",
        "        # Calculate the gradients and deltas, immediately apply the deltas.\n",
        "        for i in range(self.num_layers - 1):\n",
        "            self.weights[i] -= learning_rate * np.outer(a[i], errors[-(i+1)])\n",
        "            self.biases[i] -= learning_rate * errors[-(i+1)]\n",
        "\n",
        "        # Return the cost.\n",
        "        return self.cost(y, y_hat)\n",
        "\n"
      ],
      "execution_count": 0,
      "outputs": []
    },
    {
      "cell_type": "code",
      "metadata": {
        "id": "Wr03n8ythB6v",
        "colab_type": "code",
        "colab": {}
      },
      "source": [
        "# Create neural network.\n",
        "nn = NeuralNetwork([1,5,9])\n",
        "print(f'Number of parameters: {nn.num_parameters}')"
      ],
      "execution_count": 0,
      "outputs": []
    },
    {
      "cell_type": "code",
      "metadata": {
        "id": "O6DFXvRYhB7M",
        "colab_type": "code",
        "colab": {}
      },
      "source": [
        "# Test.\n",
        "x = np.array([0.24])\n",
        "y = np.array([1, 0, 0, 0, 0, 0, 0, 0, 0])\n",
        "\n",
        "for i in range(100000):\n",
        "    y_hat = nn.feedforward(x)\n",
        "    loss = nn.backprop(x, y)\n",
        "    if i % 10000 == 0:\n",
        "        print(f'Epoch: {i:6d}, Loss: {loss:8.6f}')"
      ],
      "execution_count": 0,
      "outputs": []
    },
    {
      "cell_type": "code",
      "metadata": {
        "id": "fbnNkEdtuHNR",
        "colab_type": "code",
        "colab": {}
      },
      "source": [
        "# Test.\n",
        "loss = nn.backprop(x, y)\n",
        "print(loss)\n",
        "\n",
        "loss = nn.cost(y, nn.feedforward(x))\n",
        "print(loss)"
      ],
      "execution_count": 0,
      "outputs": []
    },
    {
      "cell_type": "markdown",
      "metadata": {
        "id": "Aj4-KrnUc8MQ",
        "colab_type": "text"
      },
      "source": [
        "## Data Understanding"
      ]
    },
    {
      "cell_type": "code",
      "metadata": {
        "id": "bIYcae--hB7Q",
        "colab_type": "code",
        "colab": {}
      },
      "source": [
        ""
      ],
      "execution_count": 0,
      "outputs": []
    },
    {
      "cell_type": "code",
      "metadata": {
        "id": "zH9Gm-iRhB7U",
        "colab_type": "code",
        "colab": {}
      },
      "source": [
        ""
      ],
      "execution_count": 0,
      "outputs": []
    },
    {
      "cell_type": "code",
      "metadata": {
        "id": "jTrZWRSphB7Z",
        "colab_type": "code",
        "colab": {}
      },
      "source": [
        ""
      ],
      "execution_count": 0,
      "outputs": []
    },
    {
      "cell_type": "markdown",
      "metadata": {
        "id": "Vquw7aoGdOre",
        "colab_type": "text"
      },
      "source": [
        "## Data Preparation"
      ]
    },
    {
      "cell_type": "code",
      "metadata": {
        "id": "pC5_C0JtdOlB",
        "colab_type": "code",
        "colab": {}
      },
      "source": [
        ""
      ],
      "execution_count": 0,
      "outputs": []
    },
    {
      "cell_type": "code",
      "metadata": {
        "id": "rdWTQLLedOii",
        "colab_type": "code",
        "colab": {}
      },
      "source": [
        ""
      ],
      "execution_count": 0,
      "outputs": []
    },
    {
      "cell_type": "code",
      "metadata": {
        "id": "s-9uBblvdOfz",
        "colab_type": "code",
        "colab": {}
      },
      "source": [
        ""
      ],
      "execution_count": 0,
      "outputs": []
    },
    {
      "cell_type": "markdown",
      "metadata": {
        "id": "_6rZvXbOc-KX",
        "colab_type": "text"
      },
      "source": [
        "## Modelling"
      ]
    },
    {
      "cell_type": "code",
      "metadata": {
        "id": "WIOmFlSuhB7c",
        "colab_type": "code",
        "colab": {}
      },
      "source": [
        ""
      ],
      "execution_count": 0,
      "outputs": []
    },
    {
      "cell_type": "code",
      "metadata": {
        "id": "l8yTaaMkhB7f",
        "colab_type": "code",
        "colab": {}
      },
      "source": [
        ""
      ],
      "execution_count": 0,
      "outputs": []
    },
    {
      "cell_type": "code",
      "metadata": {
        "id": "AIkyucCPhB7j",
        "colab_type": "code",
        "colab": {}
      },
      "source": [
        ""
      ],
      "execution_count": 0,
      "outputs": []
    },
    {
      "cell_type": "markdown",
      "metadata": {
        "id": "3XAhFGFPdCqc",
        "colab_type": "text"
      },
      "source": [
        "## Evaluation"
      ]
    },
    {
      "cell_type": "code",
      "metadata": {
        "id": "mAiWoBaPhB7m",
        "colab_type": "code",
        "colab": {}
      },
      "source": [
        ""
      ],
      "execution_count": 0,
      "outputs": []
    },
    {
      "cell_type": "code",
      "metadata": {
        "id": "1Vjt81AyhB7o",
        "colab_type": "code",
        "colab": {}
      },
      "source": [
        ""
      ],
      "execution_count": 0,
      "outputs": []
    },
    {
      "cell_type": "code",
      "metadata": {
        "id": "hXcTdhKXdUmb",
        "colab_type": "code",
        "colab": {}
      },
      "source": [
        ""
      ],
      "execution_count": 0,
      "outputs": []
    },
    {
      "cell_type": "markdown",
      "metadata": {
        "id": "anfNFqwUdU9P",
        "colab_type": "text"
      },
      "source": [
        "## Deployment"
      ]
    },
    {
      "cell_type": "code",
      "metadata": {
        "id": "tSwWssWedU55",
        "colab_type": "code",
        "colab": {}
      },
      "source": [
        ""
      ],
      "execution_count": 0,
      "outputs": []
    },
    {
      "cell_type": "code",
      "metadata": {
        "id": "Jze5b2GWdU3v",
        "colab_type": "code",
        "colab": {}
      },
      "source": [
        ""
      ],
      "execution_count": 0,
      "outputs": []
    },
    {
      "cell_type": "code",
      "metadata": {
        "id": "1wdNKkCOdU1H",
        "colab_type": "code",
        "colab": {}
      },
      "source": [
        ""
      ],
      "execution_count": 0,
      "outputs": []
    }
  ]
}